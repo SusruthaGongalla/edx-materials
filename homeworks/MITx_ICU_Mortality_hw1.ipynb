{
  "nbformat": 4,
  "nbformat_minor": 0,
  "metadata": {
    "colab": {
      "name": "Copy of MITx ICU Mortality Skeleton.ipynb",
      "provenance": [],
      "collapsed_sections": []
    },
    "kernelspec": {
      "name": "python3",
      "display_name": "Python 3"
    }
  },
  "cells": [
    {
      "cell_type": "code",
      "metadata": {
        "id": "ElpqUAmUvI7w"
      },
      "source": [
        "from google.colab import auth\n",
        "import pandas as pd\n",
        "\n",
        "from sklearn.linear_model import LogisticRegression\n",
        "from sklearn.metrics import (accuracy_score, roc_auc_score, roc_curve, \n",
        "                             confusion_matrix, f1_score, precision_score, \n",
        "                             recall_score)\n",
        "\n",
        "from sklearn.preprocessing import StandardScaler\n",
        "from sklearn.pipeline import Pipeline\n",
        "\n",
        "import matplotlib.pyplot as plt\n",
        "from sklearn.feature_extraction.text import CountVectorizer\n"
      ],
      "execution_count": 19,
      "outputs": []
    },
    {
      "cell_type": "markdown",
      "metadata": {
        "id": "PIyJAXiowph8"
      },
      "source": [
        "## Loading Data\n"
      ]
    },
    {
      "cell_type": "code",
      "metadata": {
        "id": "Nbm57eDfvNVO"
      },
      "source": [
        "auth.authenticate_user()"
      ],
      "execution_count": 20,
      "outputs": []
    },
    {
      "cell_type": "markdown",
      "metadata": {
        "id": "_QLGMNMKvwIx"
      },
      "source": [
        "#### Lab Data"
      ]
    },
    {
      "cell_type": "code",
      "metadata": {
        "id": "x15yHLWbvOcd",
        "colab": {
          "base_uri": "https://localhost:8080/"
        },
        "outputId": "ab5966cf-1560-4202-c6a2-85b5ea155390"
      },
      "source": [
        "!gsutil cp gs://mlhc-mimic/adult_icu.gz ./\n"
      ],
      "execution_count": 21,
      "outputs": [
        {
          "output_type": "stream",
          "text": [
            "Copying gs://mlhc-mimic/adult_icu.gz...\n",
            "/ [0 files][    0.0 B/  3.1 MiB]                                                \r/ [1 files][  3.1 MiB/  3.1 MiB]                                                \r\n",
            "Operation completed over 1 objects/3.1 MiB.                                      \n"
          ],
          "name": "stdout"
        }
      ]
    },
    {
      "cell_type": "code",
      "metadata": {
        "id": "6-Lq03V-vhzW"
      },
      "source": [
        "lab_df = pd.read_csv('adult_icu.gz')"
      ],
      "execution_count": 22,
      "outputs": []
    },
    {
      "cell_type": "markdown",
      "metadata": {
        "id": "4j84nlbOwAYH"
      },
      "source": [
        "#### Note Data"
      ]
    },
    {
      "cell_type": "code",
      "metadata": {
        "id": "d6s5t1m_wDMj",
        "colab": {
          "base_uri": "https://localhost:8080/"
        },
        "outputId": "28da15d8-5442-4676-c42e-4216cd83664c"
      },
      "source": [
        "!gsutil cp gs://mlhc-mimic/adult_notes.gz ./\n"
      ],
      "execution_count": 23,
      "outputs": [
        {
          "output_type": "stream",
          "text": [
            "Copying gs://mlhc-mimic/adult_notes.gz...\n",
            "-\n",
            "Operation completed over 1 objects/76.6 MiB.                                     \n"
          ],
          "name": "stdout"
        }
      ]
    },
    {
      "cell_type": "code",
      "metadata": {
        "id": "oiwcD0kJwJkQ"
      },
      "source": [
        "note_df = pd.read_csv('adult_notes.gz')"
      ],
      "execution_count": 24,
      "outputs": []
    },
    {
      "cell_type": "markdown",
      "metadata": {
        "id": "RAknECuC8tvw"
      },
      "source": [
        "## Question 2\n",
        "\n",
        "Predicting hospital mortality from lab values\n",
        "\n"
      ]
    },
    {
      "cell_type": "code",
      "metadata": {
        "id": "Hz2dCQJL8u3J"
      },
      "source": [
        "##Explore the dataset lab_df"
      ],
      "execution_count": 25,
      "outputs": []
    },
    {
      "cell_type": "code",
      "metadata": {
        "id": "xV5v95uXrKpa",
        "colab": {
          "base_uri": "https://localhost:8080/"
        },
        "outputId": "6c600866-0a6b-4815-f103-36d9c5113746"
      },
      "source": [
        "len(lab_df)"
      ],
      "execution_count": 26,
      "outputs": [
        {
          "output_type": "execute_result",
          "data": {
            "text/plain": [
              "27348"
            ]
          },
          "metadata": {
            "tags": []
          },
          "execution_count": 26
        }
      ]
    },
    {
      "cell_type": "code",
      "metadata": {
        "id": "lcKC9lu9sNZ8",
        "colab": {
          "base_uri": "https://localhost:8080/"
        },
        "outputId": "c54fb9ab-4f60-4000-fa35-5b0d4b3f3d08"
      },
      "source": [
        "lab_df[\"hadm_id\"].nunique()"
      ],
      "execution_count": 27,
      "outputs": [
        {
          "output_type": "execute_result",
          "data": {
            "text/plain": [
              "25809"
            ]
          },
          "metadata": {
            "tags": []
          },
          "execution_count": 27
        }
      ]
    },
    {
      "cell_type": "code",
      "metadata": {
        "id": "TPD6_r4grRzJ",
        "colab": {
          "base_uri": "https://localhost:8080/"
        },
        "outputId": "09a01549-6158-4270-c7cc-9dace999e2d4"
      },
      "source": [
        "lab_df[\"subject_id\"].nunique()"
      ],
      "execution_count": 28,
      "outputs": [
        {
          "output_type": "execute_result",
          "data": {
            "text/plain": [
              "21376"
            ]
          },
          "metadata": {
            "tags": []
          },
          "execution_count": 28
        }
      ]
    },
    {
      "cell_type": "code",
      "metadata": {
        "id": "u4kEofIsHCnq"
      },
      "source": [
        "##Dropping features\n",
        "lab_df.drop([\"subject_id\",\"hadm_id\",\"icustay_id\", \"mort_icu\", \"mort_oneyr\", \"adult_icu\", \"admType_NEWBORN\"], axis=1, inplace=True)"
      ],
      "execution_count": 29,
      "outputs": []
    },
    {
      "cell_type": "code",
      "metadata": {
        "id": "xijWwNA1ozF1"
      },
      "source": [
        "##Split the dataset into train/val/test. Note that we have already provided\n",
        "##the columns \"train\", \"test\", \"valid\" for you which splits the dataset into \n",
        "##training set, validation set and testing set. \n",
        "##Once you're done, remove the columns train, val and test from the dataset. "
      ],
      "execution_count": 30,
      "outputs": []
    },
    {
      "cell_type": "code",
      "metadata": {
        "id": "J7tXF0MSuyz6"
      },
      "source": [
        "training_data = lab_df[lab_df[\"train\"] == 1].drop(columns=[\"train\", \"test\", \"valid\"])\n",
        "validation_data = lab_df[lab_df[\"valid\"] == 1].drop(columns=[\"train\", \"test\", \"valid\"])\n",
        "test_data = lab_df[lab_df[\"test\"] == 1].drop(columns=[\"train\", \"test\", \"valid\"])"
      ],
      "execution_count": 31,
      "outputs": []
    },
    {
      "cell_type": "code",
      "metadata": {
        "id": "g31eAllHu-vx",
        "colab": {
          "base_uri": "https://localhost:8080/"
        },
        "outputId": "10e6a503-6f3e-4321-fe7a-98d628d569d3"
      },
      "source": [
        "print(len(training_data))\n",
        "print(len(validation_data))\n",
        "print(len(test_data))"
      ],
      "execution_count": 32,
      "outputs": [
        {
          "output_type": "stream",
          "text": [
            "16401\n",
            "5448\n",
            "5499\n"
          ],
          "name": "stdout"
        }
      ]
    },
    {
      "cell_type": "code",
      "metadata": {
        "id": "qRmXiMjbwqqE"
      },
      "source": [
        "train_X, train_y = training_data.drop(columns=[\"mort_hosp\"]), training_data[\"mort_hosp\"]\n",
        "valid_X, valid_y = validation_data.drop(columns=[\"mort_hosp\"]), validation_data[\"mort_hosp\"]\n",
        "test_X, test_y = test_data.drop(columns=[\"mort_hosp\"]), test_data[\"mort_hosp\"]"
      ],
      "execution_count": 33,
      "outputs": []
    },
    {
      "cell_type": "code",
      "metadata": {
        "id": "o7Ws0cGvzdEB",
        "colab": {
          "base_uri": "https://localhost:8080/"
        },
        "outputId": "a281489a-3386-4c46-ee60-b2c4fb9f0af2"
      },
      "source": [
        "sum(train_y.values) / len(train_y)"
      ],
      "execution_count": 34,
      "outputs": [
        {
          "output_type": "execute_result",
          "data": {
            "text/plain": [
              "0.13962563258337907"
            ]
          },
          "metadata": {
            "tags": []
          },
          "execution_count": 34
        }
      ]
    },
    {
      "cell_type": "code",
      "metadata": {
        "id": "8sxhyGClpFVv"
      },
      "source": [
        "##Normalize the data in train/val/test. Be sure to fit StandardScaler to the training dataset only! "
      ],
      "execution_count": 35,
      "outputs": []
    },
    {
      "cell_type": "code",
      "metadata": {
        "id": "O5cQLSonwNXK"
      },
      "source": [
        "pipeline = Pipeline(\n",
        "    [(\"num_standardizer\", StandardScaler()),\n",
        "     (\"clf\", LogisticRegression(solver='liblinear', max_iter=2000, verbose=2))\n",
        "     ]\n",
        ")"
      ],
      "execution_count": 36,
      "outputs": []
    },
    {
      "cell_type": "code",
      "metadata": {
        "id": "no94AXwtqQ28"
      },
      "source": [
        "##Problem 2.5, 2.6 - Train a Logistic Regression model (with solver = 'libnear') to predict mortality given the remaining features available. \n",
        "\n",
        "C = [0.1, 0.25, 1]\n",
        "penalty = ['l1', 'l2']"
      ],
      "execution_count": 37,
      "outputs": []
    },
    {
      "cell_type": "code",
      "metadata": {
        "id": "IwVkqDIJ2GjS",
        "colab": {
          "base_uri": "https://localhost:8080/"
        },
        "outputId": "1e6f8741-9a57-4656-8663-d2d59303ead4"
      },
      "source": [
        "for c_val in C:\n",
        "  for penalty_val in penalty:\n",
        "    pipeline.set_params(clf__C = c_val, clf__penalty = penalty_val)\n",
        "    pipeline.fit(train_X, train_y)\n",
        "    print(f\"c = {c_val}, penalty = {penalty_val}\")\n",
        "    print(pipeline.score(valid_X, valid_y))"
      ],
      "execution_count": 38,
      "outputs": [
        {
          "output_type": "stream",
          "text": [
            "[LibLinear]c = 0.1, penalty = l1\n",
            "0.86068281938326\n",
            "[LibLinear]c = 0.1, penalty = l2\n",
            "0.86068281938326\n",
            "[LibLinear]c = 0.25, penalty = l1\n",
            "0.86068281938326\n",
            "[LibLinear]c = 0.25, penalty = l2\n",
            "0.8610499265785609\n",
            "[LibLinear]c = 1, penalty = l1\n",
            "0.8608663729809104\n",
            "[LibLinear]c = 1, penalty = l2\n",
            "0.8612334801762115\n"
          ],
          "name": "stdout"
        }
      ]
    },
    {
      "cell_type": "code",
      "metadata": {
        "id": "kq4BDL2F3UXD",
        "colab": {
          "base_uri": "https://localhost:8080/"
        },
        "outputId": "8dedda03-37c8-41e6-dede-5c2a22b3fd40"
      },
      "source": [
        "pipeline.set_params(clf__C = 1, clf__penalty = 'l2')\n",
        "pipeline.fit(train_X, train_y)"
      ],
      "execution_count": 39,
      "outputs": [
        {
          "output_type": "stream",
          "text": [
            "[LibLinear]"
          ],
          "name": "stdout"
        },
        {
          "output_type": "execute_result",
          "data": {
            "text/plain": [
              "Pipeline(memory=None,\n",
              "         steps=[('num_standardizer',\n",
              "                 StandardScaler(copy=True, with_mean=True, with_std=True)),\n",
              "                ('clf',\n",
              "                 LogisticRegression(C=1, class_weight=None, dual=False,\n",
              "                                    fit_intercept=True, intercept_scaling=1,\n",
              "                                    l1_ratio=None, max_iter=2000,\n",
              "                                    multi_class='auto', n_jobs=None,\n",
              "                                    penalty='l2', random_state=None,\n",
              "                                    solver='liblinear', tol=0.0001, verbose=2,\n",
              "                                    warm_start=False))],\n",
              "         verbose=False)"
            ]
          },
          "metadata": {
            "tags": []
          },
          "execution_count": 39
        }
      ]
    },
    {
      "cell_type": "code",
      "metadata": {
        "id": "QyRKMXUk8EFV",
        "colab": {
          "base_uri": "https://localhost:8080/"
        },
        "outputId": "03b73a88-0609-4c5c-f97d-c1bcb3fd2a12"
      },
      "source": [
        "pipeline.score(test_X, test_y)"
      ],
      "execution_count": 40,
      "outputs": [
        {
          "output_type": "execute_result",
          "data": {
            "text/plain": [
              "0.8663393344244408"
            ]
          },
          "metadata": {
            "tags": []
          },
          "execution_count": 40
        }
      ]
    },
    {
      "cell_type": "code",
      "metadata": {
        "id": "qOxKXT7UwNpP"
      },
      "source": [
        "standardizer = pipeline['num_standardizer']\n",
        "model = pipeline['clf']"
      ],
      "execution_count": 41,
      "outputs": []
    },
    {
      "cell_type": "code",
      "metadata": {
        "id": "JAYx8rJP3irF"
      },
      "source": [
        "test_X_standardized = standardizer.transform(test_X)\n",
        "predicted_values = model.predict(test_X_standardized)"
      ],
      "execution_count": 42,
      "outputs": []
    },
    {
      "cell_type": "code",
      "metadata": {
        "id": "prpWdXMi4KMm",
        "colab": {
          "base_uri": "https://localhost:8080/"
        },
        "outputId": "f82c2235-6828-401c-8781-1b8bb1c50a6a"
      },
      "source": [
        "accuracy_score(test_y, predicted_values)"
      ],
      "execution_count": 43,
      "outputs": [
        {
          "output_type": "execute_result",
          "data": {
            "text/plain": [
              "0.8663393344244408"
            ]
          },
          "metadata": {
            "tags": []
          },
          "execution_count": 43
        }
      ]
    },
    {
      "cell_type": "code",
      "metadata": {
        "id": "hdCNmU8_4aG3",
        "colab": {
          "base_uri": "https://localhost:8080/"
        },
        "outputId": "ef7e9e03-d3fd-4bc5-b1a5-2dbed287fccd"
      },
      "source": [
        "roc_auc_score(test_y, predicted_values)"
      ],
      "execution_count": 44,
      "outputs": [
        {
          "output_type": "execute_result",
          "data": {
            "text/plain": [
              "0.5672897832285055"
            ]
          },
          "metadata": {
            "tags": []
          },
          "execution_count": 44
        }
      ]
    },
    {
      "cell_type": "code",
      "metadata": {
        "id": "NCg78gx38Pre",
        "colab": {
          "base_uri": "https://localhost:8080/"
        },
        "outputId": "c2943bde-8b59-40e8-e006-7c8641ecfbc7"
      },
      "source": [
        "confusion_matrix(test_y, predicted_values)"
      ],
      "execution_count": 45,
      "outputs": [
        {
          "output_type": "execute_result",
          "data": {
            "text/plain": [
              "array([[4647,   85],\n",
              "       [ 650,  117]])"
            ]
          },
          "metadata": {
            "tags": []
          },
          "execution_count": 45
        }
      ]
    },
    {
      "cell_type": "code",
      "metadata": {
        "id": "PBvIVby_8aLo",
        "colab": {
          "base_uri": "https://localhost:8080/"
        },
        "outputId": "db3eebae-5e43-4f4d-b13a-4cf46d84371e"
      },
      "source": [
        "print(precision_score(test_y, predicted_values))\n",
        "print(recall_score(test_y, predicted_values))"
      ],
      "execution_count": 46,
      "outputs": [
        {
          "output_type": "stream",
          "text": [
            "0.5792079207920792\n",
            "0.15254237288135594\n"
          ],
          "name": "stdout"
        }
      ]
    },
    {
      "cell_type": "code",
      "metadata": {
        "id": "Ednt42T18oQX"
      },
      "source": [
        "##Problem 2.7 - Which of the following features are among the top 5 most \n",
        "##positive features, based on the coefficients of the logistic regression model?"
      ],
      "execution_count": 47,
      "outputs": []
    },
    {
      "cell_type": "code",
      "metadata": {
        "id": "G1uOULy-4eUO",
        "colab": {
          "base_uri": "https://localhost:8080/"
        },
        "outputId": "b2bbac3e-d5ae-4c6f-c78e-077e23acbf91"
      },
      "source": [
        "feature_importances = zip(train_X.columns, *model.coef_)\n",
        "print(sorted(list(feature_importances), key=lambda x: -x[1]))"
      ],
      "execution_count": 48,
      "outputs": [
        {
          "output_type": "stream",
          "text": [
            "[('glucose_mean', 1.3988387987531652), ('hematocrit', 0.3724188486223247), ('meanbp_mean', 0.3124986802117846), ('age', 0.28842747013215425), ('tempc_max', 0.2578131159535194), ('bilirubin', 0.25187778445448694), ('heartrate_mean', 0.20973036598533912), ('resprate_mean', 0.19721927900968972), ('bun', 0.18770696006742882), ('lactate', 0.17593653292290357), ('admType_EMERGENCY', 0.17495664714110107), ('aniongap', 0.15241454832767068), ('sodium', 0.13256042705737098), ('eth_other', 0.12866211977289466), ('heartrate_max', 0.12293532629721131), ('glucose_min', 0.08481316871320269), ('wbc', 0.060657635778060735), ('resprate_min', 0.05882339578059446), ('diasbp_min', 0.05575969911324497), ('sysbp_max', 0.05563247318250804), ('spo2_max', 0.038975080777296084), ('phosphate', 0.03275619464894038), ('pt', 0.023460669701890185), ('admType_URGENT', 0.022761781576675494), ('resprate_max', 0.01830020236045261), ('potassium', 0.005412252328945948), ('eth_asian', 0.0027637046630458345), ('inr', 0.0007414596994592904), ('ptt', -0.004495463106233241), ('meanbp_max', -0.007537286956993679), ('eth_white', -0.020987654428867134), ('magnesium', -0.02314009223103917), ('eth_hispanic', -0.03110763924255103), ('bicarbonate', -0.031617994995189726), ('first_hosp_stay', -0.039683011711246705), ('spo2_mean', -0.04503178778087107), ('glucose', -0.05189963480117162), ('sysbp_mean', -0.05306227428713545), ('diasbp_max', -0.06127293261612552), ('meanbp_min', -0.07053927024345387), ('heartrate_min', -0.07754918021498901), ('tempc_min', -0.0822625856116285), ('spo2_min', -0.0882273805247778), ('first_icu_stay', -0.0951347108157934), ('eth_black', -0.10251304211809605), ('creatinine', -0.11921520681364121), ('chloride', -0.16067382197222588), ('admType_ELECTIVE', -0.1998868348233678), ('albumin', -0.20645203593478284), ('platelet', -0.21152678716079537), ('sysbp_min', -0.23526443302166472), ('tempc_mean', -0.28021842623876675), ('diasbp_mean', -0.2947824572456773), ('hemoglobin', -0.494153633447963), ('glucose_max', -1.4162911992260383)]\n"
          ],
          "name": "stdout"
        }
      ]
    },
    {
      "cell_type": "code",
      "metadata": {
        "id": "_1nXBc538o65"
      },
      "source": [
        "##Problem 2.8 - Which of the following features are among the top 5 most \n",
        "##negative features, based on the coefficients of the logistic regression model?"
      ],
      "execution_count": 49,
      "outputs": []
    },
    {
      "cell_type": "code",
      "metadata": {
        "id": "qAUdrI5i7MYX",
        "colab": {
          "base_uri": "https://localhost:8080/"
        },
        "outputId": "13bf8629-9e5c-43ca-95d2-a3a6ef475e02"
      },
      "source": [
        "feature_importances = zip(train_X.columns, *model.coef_)\n",
        "print(sorted(list(feature_importances), key=lambda x: x[1]))"
      ],
      "execution_count": 50,
      "outputs": [
        {
          "output_type": "stream",
          "text": [
            "[('glucose_max', -1.4162911992260383), ('hemoglobin', -0.494153633447963), ('diasbp_mean', -0.2947824572456773), ('tempc_mean', -0.28021842623876675), ('sysbp_min', -0.23526443302166472), ('platelet', -0.21152678716079537), ('albumin', -0.20645203593478284), ('admType_ELECTIVE', -0.1998868348233678), ('chloride', -0.16067382197222588), ('creatinine', -0.11921520681364121), ('eth_black', -0.10251304211809605), ('first_icu_stay', -0.0951347108157934), ('spo2_min', -0.0882273805247778), ('tempc_min', -0.0822625856116285), ('heartrate_min', -0.07754918021498901), ('meanbp_min', -0.07053927024345387), ('diasbp_max', -0.06127293261612552), ('sysbp_mean', -0.05306227428713545), ('glucose', -0.05189963480117162), ('spo2_mean', -0.04503178778087107), ('first_hosp_stay', -0.039683011711246705), ('bicarbonate', -0.031617994995189726), ('eth_hispanic', -0.03110763924255103), ('magnesium', -0.02314009223103917), ('eth_white', -0.020987654428867134), ('meanbp_max', -0.007537286956993679), ('ptt', -0.004495463106233241), ('inr', 0.0007414596994592904), ('eth_asian', 0.0027637046630458345), ('potassium', 0.005412252328945948), ('resprate_max', 0.01830020236045261), ('admType_URGENT', 0.022761781576675494), ('pt', 0.023460669701890185), ('phosphate', 0.03275619464894038), ('spo2_max', 0.038975080777296084), ('sysbp_max', 0.05563247318250804), ('diasbp_min', 0.05575969911324497), ('resprate_min', 0.05882339578059446), ('wbc', 0.060657635778060735), ('glucose_min', 0.08481316871320269), ('heartrate_max', 0.12293532629721131), ('eth_other', 0.12866211977289466), ('sodium', 0.13256042705737098), ('aniongap', 0.15241454832767068), ('admType_EMERGENCY', 0.17495664714110107), ('lactate', 0.17593653292290357), ('bun', 0.18770696006742882), ('resprate_mean', 0.19721927900968972), ('heartrate_mean', 0.20973036598533912), ('bilirubin', 0.25187778445448694), ('tempc_max', 0.2578131159535194), ('age', 0.28842747013215425), ('meanbp_mean', 0.3124986802117846), ('hematocrit', 0.3724188486223247), ('glucose_mean', 1.3988387987531652)]\n"
          ],
          "name": "stdout"
        }
      ]
    },
    {
      "cell_type": "markdown",
      "metadata": {
        "id": "R0u2eZw0_Ov3"
      },
      "source": [
        "## Question 3\n",
        "\n",
        "Predicting hospital mortality from clinical notes\n"
      ]
    },
    {
      "cell_type": "code",
      "metadata": {
        "id": "FCoE7_UiB_US",
        "colab": {
          "base_uri": "https://localhost:8080/"
        },
        "outputId": "b096bbe6-84a1-42eb-b416-b07516fd970d"
      },
      "source": [
        "len(note_df)"
      ],
      "execution_count": 51,
      "outputs": [
        {
          "output_type": "execute_result",
          "data": {
            "text/plain": [
              "15000"
            ]
          },
          "metadata": {
            "tags": []
          },
          "execution_count": 51
        }
      ]
    },
    {
      "cell_type": "code",
      "metadata": {
        "id": "dd7Uzlj7xTTc"
      },
      "source": [
        "note_df.drop([\"subject_id\",\"hadm_id\",\"icustay_id\", \"mort_icu\", \"mort_oneyr\"], axis=1, inplace=True)"
      ],
      "execution_count": 52,
      "outputs": []
    },
    {
      "cell_type": "code",
      "metadata": {
        "id": "1aMSys_UBIS6",
        "colab": {
          "base_uri": "https://localhost:8080/"
        },
        "outputId": "a179ef39-3f13-4056-d941-a0e615ac5c71"
      },
      "source": [
        "note_df.columns"
      ],
      "execution_count": 53,
      "outputs": [
        {
          "output_type": "execute_result",
          "data": {
            "text/plain": [
              "Index(['chartext', 'train', 'mort_hosp', 'test', 'valid'], dtype='object')"
            ]
          },
          "metadata": {
            "tags": []
          },
          "execution_count": 53
        }
      ]
    },
    {
      "cell_type": "code",
      "metadata": {
        "id": "GKGab1yIxYPX"
      },
      "source": [
        "##Split the dataset into train/val/test"
      ],
      "execution_count": 54,
      "outputs": []
    },
    {
      "cell_type": "code",
      "metadata": {
        "id": "jhkfQTEhBNrM"
      },
      "source": [
        "training_data = note_df[note_df[\"train\"] == 1].drop(columns=[\"train\", \"test\", \"valid\"])\n",
        "validation_data = note_df[note_df[\"valid\"] == 1].drop(columns=[\"train\", \"test\", \"valid\"])\n",
        "test_data = note_df[note_df[\"test\"] == 1].drop(columns=[\"train\", \"test\", \"valid\"])"
      ],
      "execution_count": 55,
      "outputs": []
    },
    {
      "cell_type": "code",
      "metadata": {
        "id": "sVmY14IcB4kL",
        "colab": {
          "base_uri": "https://localhost:8080/"
        },
        "outputId": "f7abf21f-3493-4a28-c944-84c9ab0929e1"
      },
      "source": [
        "print(len(training_data))\n",
        "print(len(validation_data))\n",
        "print(len(test_data))"
      ],
      "execution_count": 56,
      "outputs": [
        {
          "output_type": "stream",
          "text": [
            "9039\n",
            "3046\n",
            "2915\n"
          ],
          "name": "stdout"
        }
      ]
    },
    {
      "cell_type": "code",
      "metadata": {
        "id": "pE_Qqu4hCWB9"
      },
      "source": [
        "train_X, train_y = training_data[\"chartext\"].values, training_data[\"mort_hosp\"].values\n",
        "valid_X, valid_y = validation_data[\"chartext\"].values, validation_data[\"mort_hosp\"].values\n",
        "test_X, test_y = test_data[\"chartext\"].values, test_data[\"mort_hosp\"].values"
      ],
      "execution_count": 57,
      "outputs": []
    },
    {
      "cell_type": "code",
      "metadata": {
        "id": "yseYD8naxdlJ"
      },
      "source": [
        "##Fit a CountVectorizer with max_features = 5000 to the trianing dataset and generate features for train/val/test. \n",
        "vectorizer = CountVectorizer(max_features = 5000)"
      ],
      "execution_count": 58,
      "outputs": []
    },
    {
      "cell_type": "code",
      "metadata": {
        "id": "iZcS8UQzL_8U"
      },
      "source": [
        "pipeline = Pipeline([\n",
        "                     (\"vectorizer\", vectorizer),\n",
        "                     (\"clf\", LogisticRegression(solver='liblinear', max_iter=2000))\n",
        "])"
      ],
      "execution_count": 59,
      "outputs": []
    },
    {
      "cell_type": "code",
      "metadata": {
        "id": "ZVZ9ByAbx-U6",
        "colab": {
          "base_uri": "https://localhost:8080/"
        },
        "outputId": "1be299e2-31e7-4937-a009-011ec713c9e1"
      },
      "source": [
        "##Problem 3.1, 3.2 Train a Logistic Regression model (with solver = 'liblinear') to predict mortality given the remaining features available. \n",
        "\n",
        "C = [0.1,0.25,1]\n",
        "penalty = ['l1','l2']\n",
        "for c_val in C:\n",
        "  for penalty_val in penalty:\n",
        "    print(f\"using C = {c_val}, penalty = {penalty_val}\")\n",
        "    pipeline.set_params(clf__C = c_val, clf__penalty = penalty_val)\n",
        "    pipeline.fit(train_X, train_y)\n",
        "    print(f\"validation accuracy = {pipeline.score(valid_X, valid_y)}\")"
      ],
      "execution_count": 60,
      "outputs": [
        {
          "output_type": "stream",
          "text": [
            "using C = 0.1, penalty = l1\n",
            "validation accuracy = 0.8539067629678266\n",
            "using C = 0.1, penalty = l2\n",
            "validation accuracy = 0.8355219960604071\n",
            "using C = 0.25, penalty = l1\n",
            "validation accuracy = 0.8437294812869337\n",
            "using C = 0.25, penalty = l2\n",
            "validation accuracy = 0.8319107025607354\n",
            "using C = 1, penalty = l1\n",
            "validation accuracy = 0.8325673013788575\n",
            "using C = 1, penalty = l2\n",
            "validation accuracy = 0.8273145108338805\n"
          ],
          "name": "stdout"
        }
      ]
    },
    {
      "cell_type": "code",
      "metadata": {
        "id": "W3RlL57PQwoM",
        "colab": {
          "base_uri": "https://localhost:8080/"
        },
        "outputId": "ed1efa6f-531f-4343-f7bd-45ad58abde58"
      },
      "source": [
        "## retraining the model on best hyper parameters found using validation dataset\n",
        "pipeline.set_params(clf__C = 0.1, clf__penalty = 'l1')\n",
        "pipeline.fit(train_X, train_y)"
      ],
      "execution_count": 61,
      "outputs": [
        {
          "output_type": "execute_result",
          "data": {
            "text/plain": [
              "Pipeline(memory=None,\n",
              "         steps=[('vectorizer',\n",
              "                 CountVectorizer(analyzer='word', binary=False,\n",
              "                                 decode_error='strict',\n",
              "                                 dtype=<class 'numpy.int64'>, encoding='utf-8',\n",
              "                                 input='content', lowercase=True, max_df=1.0,\n",
              "                                 max_features=5000, min_df=1,\n",
              "                                 ngram_range=(1, 1), preprocessor=None,\n",
              "                                 stop_words=None, strip_accents=None,\n",
              "                                 token_pattern='(?u)\\\\b\\\\w\\\\w+\\\\b',\n",
              "                                 tokenizer=None, vocabulary=None)),\n",
              "                ('clf',\n",
              "                 LogisticRegression(C=0.1, class_weight=None, dual=False,\n",
              "                                    fit_intercept=True, intercept_scaling=1,\n",
              "                                    l1_ratio=None, max_iter=2000,\n",
              "                                    multi_class='auto', n_jobs=None,\n",
              "                                    penalty='l1', random_state=None,\n",
              "                                    solver='liblinear', tol=0.0001, verbose=0,\n",
              "                                    warm_start=False))],\n",
              "         verbose=False)"
            ]
          },
          "metadata": {
            "tags": []
          },
          "execution_count": 61
        }
      ]
    },
    {
      "cell_type": "code",
      "metadata": {
        "id": "eRf6-7UVNIzi",
        "colab": {
          "base_uri": "https://localhost:8080/"
        },
        "outputId": "b350d110-255a-4155-d698-5bbc637f2566"
      },
      "source": [
        "featurizer, model = pipeline[\"vectorizer\"], pipeline[\"clf\"]\n",
        "test_X_featurized = featurizer.transform(test_X)\n",
        "predicted_values = model.predict(test_X_featurized)\n",
        "\n",
        "print(f\"accuracy on test data = {accuracy_score(test_y, predicted_values)}\")\n",
        "print(f\"auc on test data = {roc_auc_score(test_y, predicted_values)}\")\n",
        "print(f\"f1score on test data = {f1_score(test_y, predicted_values)}\")"
      ],
      "execution_count": 62,
      "outputs": [
        {
          "output_type": "stream",
          "text": [
            "accuracy on test data = 0.8662092624356775\n",
            "auc on test data = 0.6387468868790143\n",
            "f1score on test data = 0.3887147335423197\n"
          ],
          "name": "stdout"
        }
      ]
    },
    {
      "cell_type": "code",
      "metadata": {
        "id": "q3rKbj65NwYJ"
      },
      "source": [
        "vocab_idxs = featurizer.vocabulary_"
      ],
      "execution_count": 63,
      "outputs": []
    },
    {
      "cell_type": "code",
      "metadata": {
        "id": "XCE5MpCmO_Bp"
      },
      "source": [
        "vocab_used = [None]*len(vocab_idxs)\n",
        "for token, idx in vocab_idxs.items():\n",
        "  vocab_used[idx] = token"
      ],
      "execution_count": 64,
      "outputs": []
    },
    {
      "cell_type": "code",
      "metadata": {
        "id": "beRbOaOP9KY2",
        "colab": {
          "base_uri": "https://localhost:8080/"
        },
        "outputId": "ef912dd8-ad1f-412d-f75c-170568ba8288"
      },
      "source": [
        "##Problem 3.3 Which of the following features are among the top 5 most \n",
        "##predictive positive words, based on the coefficients of the logistic regression model?\n",
        "feature_importances = zip(vocab_used, *model.coef_)\n",
        "pos_predictive_tokens = sorted(list(feature_importances), key=lambda x: -x[1])\n",
        "print(pos_predictive_tokens[:5])"
      ],
      "execution_count": 65,
      "outputs": [
        {
          "output_type": "stream",
          "text": [
            "[('empirically', 0.3071398357871068), ('esld', 0.3032287515817569), ('corneal', 0.2815456720180719), ('dnr', 0.27599477571499875), ('prognosis', 0.25885340541292506)]\n"
          ],
          "name": "stdout"
        }
      ]
    },
    {
      "cell_type": "code",
      "metadata": {
        "id": "0fKZpM-x9N_R",
        "colab": {
          "base_uri": "https://localhost:8080/"
        },
        "outputId": "6c9696c8-98b3-4f09-aae4-124438b3431f"
      },
      "source": [
        "##Problem 3.4 Which of the following features are among the top 5 most \n",
        "##predictive negative words, based on the coefficients of the logistic regression model?\n",
        "feature_importances = zip(vocab_used, *model.coef_)\n",
        "neg_predictive_tokens = sorted(list(feature_importances), key=lambda x: x[1])\n",
        "print(neg_predictive_tokens[:5])"
      ],
      "execution_count": 66,
      "outputs": [
        {
          "output_type": "stream",
          "text": [
            "[('track', -0.30866243667176413), ('cover', -0.2411221723983747), ('volumes', -0.21918898461164063), ('rounds', -0.2059231731923222), ('valium', -0.20274241414854816)]\n"
          ],
          "name": "stdout"
        }
      ]
    },
    {
      "cell_type": "markdown",
      "metadata": {
        "id": "fhKFPNlIAV-0"
      },
      "source": [
        "## Question 4\n",
        "\n",
        "Analysis of data and results"
      ]
    },
    {
      "cell_type": "code",
      "metadata": {
        "id": "DxyN7K3m_Wbp"
      },
      "source": [
        "##Problem 4.1 - people / mortality rate in different ethnic categorizations"
      ],
      "execution_count": 67,
      "outputs": []
    },
    {
      "cell_type": "code",
      "metadata": {
        "id": "spZhzO1WRx5h",
        "colab": {
          "base_uri": "https://localhost:8080/"
        },
        "outputId": "482af046-cc8c-468e-c483-c20800ffa903"
      },
      "source": [
        "len(lab_df)"
      ],
      "execution_count": 68,
      "outputs": [
        {
          "output_type": "execute_result",
          "data": {
            "text/plain": [
              "27348"
            ]
          },
          "metadata": {
            "tags": []
          },
          "execution_count": 68
        }
      ]
    },
    {
      "cell_type": "code",
      "metadata": {
        "id": "SjVGBpPRUdef",
        "colab": {
          "base_uri": "https://localhost:8080/"
        },
        "outputId": "33149f93-0f4b-4ad3-ddd9-0eaef6d52919"
      },
      "source": [
        "lab_df.columns"
      ],
      "execution_count": 69,
      "outputs": [
        {
          "output_type": "execute_result",
          "data": {
            "text/plain": [
              "Index(['age', 'mort_hosp', 'first_hosp_stay', 'first_icu_stay', 'eth_asian',\n",
              "       'eth_black', 'eth_hispanic', 'eth_other', 'eth_white',\n",
              "       'admType_ELECTIVE', 'admType_EMERGENCY', 'admType_URGENT',\n",
              "       'heartrate_min', 'heartrate_max', 'heartrate_mean', 'sysbp_min',\n",
              "       'sysbp_max', 'sysbp_mean', 'diasbp_min', 'diasbp_max', 'diasbp_mean',\n",
              "       'meanbp_min', 'meanbp_max', 'meanbp_mean', 'resprate_min',\n",
              "       'resprate_max', 'resprate_mean', 'tempc_min', 'tempc_max', 'tempc_mean',\n",
              "       'spo2_min', 'spo2_max', 'spo2_mean', 'glucose_min', 'glucose_max',\n",
              "       'glucose_mean', 'aniongap', 'albumin', 'bicarbonate', 'bilirubin',\n",
              "       'creatinine', 'chloride', 'glucose', 'hematocrit', 'hemoglobin',\n",
              "       'lactate', 'magnesium', 'phosphate', 'platelet', 'potassium', 'ptt',\n",
              "       'inr', 'pt', 'sodium', 'bun', 'wbc', 'train', 'test', 'valid'],\n",
              "      dtype='object')"
            ]
          },
          "metadata": {
            "tags": []
          },
          "execution_count": 69
        }
      ]
    },
    {
      "cell_type": "code",
      "metadata": {
        "id": "-rM-O-4LSFWd",
        "colab": {
          "base_uri": "https://localhost:8080/"
        },
        "outputId": "4e1edff7-df53-40fe-fa08-5512e1d6790d"
      },
      "source": [
        "for col in ['eth_asian', 'eth_black', 'eth_hispanic', 'eth_white', 'eth_other']:\n",
        "  eth_entries = lab_df[lab_df[col] == 1]\n",
        "  num_entries = len(eth_entries)\n",
        "  print(f\"Number of people with ethnicity {col[4:]} = {num_entries}\")\n",
        "  num_mortalities = len(eth_entries[eth_entries[\"mort_hosp\"] == 1])\n",
        "  print(f\"Hospital mortality rate = {num_mortalities / num_entries}\")"
      ],
      "execution_count": 70,
      "outputs": [
        {
          "output_type": "stream",
          "text": [
            "Number of people with ethnicity asian = 618\n",
            "Hospital mortality rate = 0.15210355987055016\n",
            "Number of people with ethnicity black = 2581\n",
            "Hospital mortality rate = 0.11080976365749709\n",
            "Number of people with ethnicity hispanic = 881\n",
            "Hospital mortality rate = 0.10442678774120318\n",
            "Number of people with ethnicity white = 19364\n",
            "Hospital mortality rate = 0.1361805412104937\n",
            "Number of people with ethnicity other = 3904\n",
            "Hospital mortality rate = 0.1875\n"
          ],
          "name": "stdout"
        }
      ]
    },
    {
      "cell_type": "code",
      "metadata": {
        "id": "xRV_F6709e-C"
      },
      "source": [
        "##Problem 4.2 - plot histogram for ages"
      ],
      "execution_count": 71,
      "outputs": []
    },
    {
      "cell_type": "code",
      "metadata": {
        "id": "TNkPe5HoTEwj",
        "colab": {
          "base_uri": "https://localhost:8080/"
        },
        "outputId": "8b182538-fb25-4682-889e-bc3aeeaa41df"
      },
      "source": [
        "lab_df['age'].describe()"
      ],
      "execution_count": 72,
      "outputs": [
        {
          "output_type": "execute_result",
          "data": {
            "text/plain": [
              "count    27348.000000\n",
              "mean        63.233984\n",
              "std         16.080696\n",
              "min         16.000000\n",
              "25%         53.000000\n",
              "50%         65.000000\n",
              "75%         76.000000\n",
              "max         89.000000\n",
              "Name: age, dtype: float64"
            ]
          },
          "metadata": {
            "tags": []
          },
          "execution_count": 72
        }
      ]
    },
    {
      "cell_type": "code",
      "metadata": {
        "id": "qdAFI0taSsM8",
        "colab": {
          "base_uri": "https://localhost:8080/"
        },
        "outputId": "336900e0-ed00-4224-c93f-de900a8a9aee"
      },
      "source": [
        "ages_20_to_90 = lab_df[(lab_df['age'] >= 20) & (lab_df['age'] <= 90)]\n",
        "len(ages_20_to_90)"
      ],
      "execution_count": 73,
      "outputs": [
        {
          "output_type": "execute_result",
          "data": {
            "text/plain": [
              "27180"
            ]
          },
          "metadata": {
            "tags": []
          },
          "execution_count": 73
        }
      ]
    },
    {
      "cell_type": "code",
      "metadata": {
        "id": "NGwxTDCyTOZU",
        "colab": {
          "base_uri": "https://localhost:8080/",
          "height": 333
        },
        "outputId": "0c5b9d78-5b56-42af-a8e7-994b774517fc"
      },
      "source": [
        "plt.hist(ages_20_to_90[\"age\"].values)"
      ],
      "execution_count": 74,
      "outputs": [
        {
          "output_type": "execute_result",
          "data": {
            "text/plain": [
              "(array([ 670.,  687., 1109., 1953., 2999., 3775., 4300., 4330., 4541.,\n",
              "        2816.]),\n",
              " array([20. , 26.9, 33.8, 40.7, 47.6, 54.5, 61.4, 68.3, 75.2, 82.1, 89. ]),\n",
              " <a list of 10 Patch objects>)"
            ]
          },
          "metadata": {
            "tags": []
          },
          "execution_count": 74
        },
        {
          "output_type": "display_data",
          "data": {
            "image/png": "[encoded data removed]",
            "text/plain": [
              "<Figure size 432x288 with 1 Axes>"
            ]
          },
          "metadata": {
            "tags": [],
            "needs_background": "light"
          }
        }
      ]
    },
    {
      "cell_type": "markdown",
      "metadata": {
        "id": "p14sV8ZbIt83"
      },
      "source": [
        "# New Section"
      ]
    },
    {
      "cell_type": "code",
      "metadata": {
        "id": "fNbxp_qE9hpb"
      },
      "source": [
        "##TODO: Problem 4.3 - plot histogram for mortality rates"
      ],
      "execution_count": 75,
      "outputs": []
    },
    {
      "cell_type": "code",
      "metadata": {
        "id": "Mdcm3ayBWDPr"
      },
      "source": [
        "lab_df[\"age_floor\"] = lab_df[\"age\"] // 10"
      ],
      "execution_count": 76,
      "outputs": []
    },
    {
      "cell_type": "code",
      "metadata": {
        "id": "n2zFn3E6Z5Hq",
        "colab": {
          "base_uri": "https://localhost:8080/"
        },
        "outputId": "19ab9b5f-8184-4f39-f650-c30672682b22"
      },
      "source": [
        "plot_data = lab_df.groupby([\"age_floor\"]).mean()[\"mort_hosp\"]\n",
        "plot_data"
      ],
      "execution_count": 77,
      "outputs": [
        {
          "output_type": "execute_result",
          "data": {
            "text/plain": [
              "age_floor\n",
              "1.0    0.065476\n",
              "2.0    0.070031\n",
              "3.0    0.082244\n",
              "4.0    0.110184\n",
              "5.0    0.119746\n",
              "6.0    0.133029\n",
              "7.0    0.157415\n",
              "8.0    0.201030\n",
              "Name: mort_hosp, dtype: float64"
            ]
          },
          "metadata": {
            "tags": []
          },
          "execution_count": 77
        }
      ]
    },
    {
      "cell_type": "code",
      "metadata": {
        "id": "R5k4uQJ-W_j3",
        "colab": {
          "base_uri": "https://localhost:8080/",
          "height": 282
        },
        "outputId": "0bdbf33d-9b98-4fd6-8582-58e6ec1c47e7"
      },
      "source": [
        "plt.bar(x = plot_data.index, height = plot_data)"
      ],
      "execution_count": 78,
      "outputs": [
        {
          "output_type": "execute_result",
          "data": {
            "text/plain": [
              "<BarContainer object of 8 artists>"
            ]
          },
          "metadata": {
            "tags": []
          },
          "execution_count": 78
        },
        {
          "output_type": "display_data",
          "data": {
            "image/png": "[encoded data removed]",
            "text/plain": [
              "<Figure size 432x288 with 1 Axes>"
            ]
          },
          "metadata": {
            "tags": [],
            "needs_background": "light"
          }
        }
      ]
    },
    {
      "cell_type": "code",
      "metadata": {
        "id": "cJGp5DOi9jdy"
      },
      "source": [
        "##Problem 4.4 - retrain a model using C=1, penalty = l2 and evaluate AUC\n",
        "##and accuracy on the test set with age less than 40 and on the test set with\n",
        "##age greater than or equal to 40."
      ],
      "execution_count": 79,
      "outputs": []
    },
    {
      "cell_type": "code",
      "metadata": {
        "id": "w7TDA8wYbGAZ"
      },
      "source": [
        "lab_df.drop(columns = [\"age_floor\"], inplace=True)"
      ],
      "execution_count": 81,
      "outputs": []
    },
    {
      "cell_type": "code",
      "metadata": {
        "id": "o-GwkXi-XkzE"
      },
      "source": [
        "training_data = lab_df[lab_df[\"train\"] == 1].drop(columns=[\"train\", \"test\", \"valid\"])\n",
        "validation_data = lab_df[lab_df[\"valid\"] == 1].drop(columns=[\"train\", \"test\", \"valid\"])\n",
        "test_data = lab_df[lab_df[\"test\"] == 1].drop(columns=[\"train\", \"test\", \"valid\"])"
      ],
      "execution_count": 82,
      "outputs": []
    },
    {
      "cell_type": "code",
      "metadata": {
        "id": "it4PAPY-bTc-",
        "colab": {
          "base_uri": "https://localhost:8080/"
        },
        "outputId": "796fb0c1-32b1-4010-beee-2951cb8b6133"
      },
      "source": [
        "print(len(training_data))\n",
        "print(len(validation_data))\n",
        "print(len(test_data))"
      ],
      "execution_count": 83,
      "outputs": [
        {
          "output_type": "stream",
          "text": [
            "16401\n",
            "5448\n",
            "5499\n"
          ],
          "name": "stdout"
        }
      ]
    },
    {
      "cell_type": "code",
      "metadata": {
        "id": "ZoPr2HKAa9gA"
      },
      "source": [
        "train_X, train_y = training_data.drop(columns=[\"mort_hosp\"]), training_data[\"mort_hosp\"]\n",
        "valid_X, valid_y = validation_data.drop(columns=[\"mort_hosp\"]), validation_data[\"mort_hosp\"]"
      ],
      "execution_count": 84,
      "outputs": []
    },
    {
      "cell_type": "code",
      "metadata": {
        "id": "rTQzIwKga-3B",
        "colab": {
          "base_uri": "https://localhost:8080/"
        },
        "outputId": "c0df2c50-fdb8-4320-cea9-4049e045f14e"
      },
      "source": [
        "len(train_X.columns)"
      ],
      "execution_count": 85,
      "outputs": [
        {
          "output_type": "execute_result",
          "data": {
            "text/plain": [
              "55"
            ]
          },
          "metadata": {
            "tags": []
          },
          "execution_count": 85
        }
      ]
    },
    {
      "cell_type": "markdown",
      "metadata": {
        "id": "u5uPQ0gebpy0"
      },
      "source": [
        "### Retrain the model"
      ]
    },
    {
      "cell_type": "code",
      "metadata": {
        "id": "-cmbMWDAbAFp"
      },
      "source": [
        "pipeline = Pipeline(\n",
        "    [(\"num_standardizer\", StandardScaler()),\n",
        "     (\"clf\", LogisticRegression(solver='liblinear', \n",
        "                                C = 1, penalty = 'l2',\n",
        "                                max_iter=2000, verbose=2))\n",
        "     ]\n",
        ")"
      ],
      "execution_count": 86,
      "outputs": []
    },
    {
      "cell_type": "code",
      "metadata": {
        "id": "TbQ_NdKqb0Fu",
        "colab": {
          "base_uri": "https://localhost:8080/"
        },
        "outputId": "458fbdfa-9285-4633-fd5d-16aa0580f517"
      },
      "source": [
        "pipeline.fit(train_X, train_y)"
      ],
      "execution_count": 87,
      "outputs": [
        {
          "output_type": "stream",
          "text": [
            "[LibLinear]"
          ],
          "name": "stdout"
        },
        {
          "output_type": "execute_result",
          "data": {
            "text/plain": [
              "Pipeline(memory=None,\n",
              "         steps=[('num_standardizer',\n",
              "                 StandardScaler(copy=True, with_mean=True, with_std=True)),\n",
              "                ('clf',\n",
              "                 LogisticRegression(C=1, class_weight=None, dual=False,\n",
              "                                    fit_intercept=True, intercept_scaling=1,\n",
              "                                    l1_ratio=None, max_iter=2000,\n",
              "                                    multi_class='auto', n_jobs=None,\n",
              "                                    penalty='l2', random_state=None,\n",
              "                                    solver='liblinear', tol=0.0001, verbose=2,\n",
              "                                    warm_start=False))],\n",
              "         verbose=False)"
            ]
          },
          "metadata": {
            "tags": []
          },
          "execution_count": 87
        }
      ]
    },
    {
      "cell_type": "code",
      "metadata": {
        "id": "95Mqegwzcc5o"
      },
      "source": [
        "standardizer, model = pipeline[\"num_standardizer\"], pipeline[\"clf\"]"
      ],
      "execution_count": 88,
      "outputs": []
    },
    {
      "cell_type": "code",
      "metadata": {
        "id": "qW0vS3LYb7I5"
      },
      "source": [
        "patients_less_than_40 = test_data[test_data[\"age\"] < 40]\n",
        "patients_more_than_40 = test_data[test_data[\"age\"] >= 40]"
      ],
      "execution_count": 89,
      "outputs": []
    },
    {
      "cell_type": "code",
      "metadata": {
        "id": "HHMxNzQrefFS",
        "colab": {
          "base_uri": "https://localhost:8080/"
        },
        "outputId": "970aaf6c-76b9-49dc-fe36-374a2408da71"
      },
      "source": [
        "print(f\"Number of patients admitted below the age of 40 = {len(patients_less_than_40)}\")\n",
        "print(f\"Number of patients admitted equal to and above 40 = {len(patients_more_than_40)}\")"
      ],
      "execution_count": 90,
      "outputs": [
        {
          "output_type": "stream",
          "text": [
            "Number of patients admitted below the age of 40 = 492\n",
            "Number of patients admitted equal to and above 40 = 5007\n"
          ],
          "name": "stdout"
        }
      ]
    },
    {
      "cell_type": "code",
      "metadata": {
        "id": "X9EPFhO0cZeP",
        "colab": {
          "base_uri": "https://localhost:8080/"
        },
        "outputId": "310c4d26-dd87-4d5a-c8e0-c6a22680d969"
      },
      "source": [
        "for data_df in [patients_less_than_40, patients_more_than_40]:\n",
        "  features, labels = data_df.drop(columns=[\"mort_hosp\"]), data_df[\"mort_hosp\"]\n",
        "  features_standardized = standardizer.transform(features)\n",
        "  predictions = model.predict(features_standardized)\n",
        "  print(f\"min age = {data_df['age'].min()}, max age = {data_df['age'].max()}\")\n",
        "  print(f\"model accuracy = {accuracy_score(labels, predictions)}\")\n",
        "  print(f\"auc score = {roc_auc_score(labels, predictions)}\")\n",
        "  print()"
      ],
      "execution_count": 91,
      "outputs": [
        {
          "output_type": "stream",
          "text": [
            "min age = 16.0, max age = 39.0\n",
            "model accuracy = 0.9410569105691057\n",
            "auc score = 0.6101731601731601\n",
            "\n",
            "min age = 40.0, max age = 89.0\n",
            "model accuracy = 0.8589974036349112\n",
            "auc score = 0.5653762801915481\n",
            "\n"
          ],
          "name": "stdout"
        }
      ]
    },
    {
      "cell_type": "code",
      "metadata": {
        "id": "A0yLqRrFdTcV"
      },
      "source": [
        ""
      ],
      "execution_count": null,
      "outputs": []
    }
  ]
}