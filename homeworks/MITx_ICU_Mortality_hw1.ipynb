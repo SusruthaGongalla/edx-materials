{
  "nbformat": 4,
  "nbformat_minor": 0,
  "metadata": {
    "colab": {
      "name": "MITx ICU Mortality Skeleton.ipynb",
      "private_outputs": true,
      "provenance": [],
      "collapsed_sections": []
    },
    "kernelspec": {
      "name": "python3",
      "display_name": "Python 3"
    }
  },
  "cells": [
    {
      "cell_type": "code",
      "metadata": {
        "id": "ElpqUAmUvI7w"
      },
      "source": [
        "from google.colab import auth\n",
        "import pandas as pd\n",
        "\n",
        "from sklearn.linear_model import LogisticRegression\n",
        "from sklearn.metrics import (accuracy_score, roc_auc_score, roc_curve, \n",
        "                             confusion_matrix, f1_score, precision_score, \n",
        "                             recall_score)\n",
        "\n",
        "from sklearn.preprocessing import StandardScaler\n",
        "\n",
        "import matplotlib.pyplot as plt\n",
        "from sklearn.feature_extraction.text import CountVectorizer\n"
      ],
      "execution_count": null,
      "outputs": []
    },
    {
      "cell_type": "markdown",
      "metadata": {
        "id": "PIyJAXiowph8"
      },
      "source": [
        "## Loading Data\n"
      ]
    },
    {
      "cell_type": "code",
      "metadata": {
        "id": "Nbm57eDfvNVO"
      },
      "source": [
        "auth.authenticate_user()"
      ],
      "execution_count": null,
      "outputs": []
    },
    {
      "cell_type": "markdown",
      "metadata": {
        "id": "_QLGMNMKvwIx"
      },
      "source": [
        "#### Lab Data"
      ]
    },
    {
      "cell_type": "code",
      "metadata": {
        "id": "x15yHLWbvOcd"
      },
      "source": [
        "!gsutil cp gs://mlhc-mimic/adult_icu.gz ./\n"
      ],
      "execution_count": null,
      "outputs": []
    },
    {
      "cell_type": "code",
      "metadata": {
        "id": "6-Lq03V-vhzW"
      },
      "source": [
        "lab_df = pd.read_csv('adult_icu.gz')"
      ],
      "execution_count": null,
      "outputs": []
    },
    {
      "cell_type": "markdown",
      "metadata": {
        "id": "4j84nlbOwAYH"
      },
      "source": [
        "#### Note Data"
      ]
    },
    {
      "cell_type": "code",
      "metadata": {
        "id": "d6s5t1m_wDMj"
      },
      "source": [
        "!gsutil cp gs://mlhc-mimic/adult_notes.gz ./\n"
      ],
      "execution_count": null,
      "outputs": []
    },
    {
      "cell_type": "code",
      "metadata": {
        "id": "oiwcD0kJwJkQ"
      },
      "source": [
        "note_df = pd.read_csv('adult_notes.gz')"
      ],
      "execution_count": null,
      "outputs": []
    },
    {
      "cell_type": "markdown",
      "metadata": {
        "id": "RAknECuC8tvw"
      },
      "source": [
        "## Question 2\n",
        "\n",
        "Predicting hospital mortality from lab values\n",
        "\n"
      ]
    },
    {
      "cell_type": "code",
      "metadata": {
        "id": "Hz2dCQJL8u3J"
      },
      "source": [
        "##Explore the dataset lab_df"
      ],
      "execution_count": null,
      "outputs": []
    },
    {
      "cell_type": "code",
      "metadata": {
        "id": "xV5v95uXrKpa"
      },
      "source": [
        "len(lab_df)"
      ],
      "execution_count": null,
      "outputs": []
    },
    {
      "cell_type": "code",
      "metadata": {
        "id": "lcKC9lu9sNZ8"
      },
      "source": [
        "lab_df[\"hadm_id\"].nunique()"
      ],
      "execution_count": null,
      "outputs": []
    },
    {
      "cell_type": "code",
      "metadata": {
        "id": "TPD6_r4grRzJ"
      },
      "source": [
        "lab_df[\"subject_id\"].nunique()"
      ],
      "execution_count": null,
      "outputs": []
    },
    {
      "cell_type": "code",
      "metadata": {
        "id": "u4kEofIsHCnq"
      },
      "source": [
        "##Dropping features\n",
        "lab_df.drop([\"subject_id\",\"hadm_id\",\"icustay_id\", \"mort_icu\", \"mort_oneyr\", \"adult_icu\", \"admType_NEWBORN\"], axis=1, inplace=True)"
      ],
      "execution_count": null,
      "outputs": []
    },
    {
      "cell_type": "code",
      "metadata": {
        "id": "xijWwNA1ozF1"
      },
      "source": [
        "##Split the dataset into train/val/test. Note that we have already provided\n",
        "##the columns \"train\", \"test\", \"valid\" for you which splits the dataset into \n",
        "##training set, validation set and testing set. \n",
        "##Once you're done, remove the columns train, val and test from the dataset. "
      ],
      "execution_count": null,
      "outputs": []
    },
    {
      "cell_type": "code",
      "metadata": {
        "id": "J7tXF0MSuyz6"
      },
      "source": [
        "training_data = lab_df[lab_df[\"train\"] == 1].drop(columns=[\"train\", \"test\", \"valid\"])\n",
        "validation_data = lab_df[lab_df[\"valid\"] == 1].drop(columns=[\"train\", \"test\", \"valid\"])\n",
        "test_data = lab_df[lab_df[\"test\"] == 1].drop(columns=[\"train\", \"test\", \"valid\"])"
      ],
      "execution_count": null,
      "outputs": []
    },
    {
      "cell_type": "code",
      "metadata": {
        "id": "g31eAllHu-vx"
      },
      "source": [
        "print(len(training_data))\n",
        "print(len(validation_data))\n",
        "print(len(test_data))"
      ],
      "execution_count": null,
      "outputs": []
    },
    {
      "cell_type": "code",
      "metadata": {
        "id": "qRmXiMjbwqqE"
      },
      "source": [
        "train_X, train_y = training_data.drop(columns=[\"mort_hosp\"]), training_data[\"mort_hosp\"]\n",
        "valid_X, valid_y = validation_data.drop(columns=[\"mort_hosp\"]), validation_data[\"mort_hosp\"]\n",
        "test_X, test_y = test_data.drop(columns=[\"mort_hosp\"]), test_data[\"mort_hosp\"]"
      ],
      "execution_count": null,
      "outputs": []
    },
    {
      "cell_type": "code",
      "metadata": {
        "id": "o7Ws0cGvzdEB"
      },
      "source": [
        "sum(train_y.values) / len(train_y)"
      ],
      "execution_count": null,
      "outputs": []
    },
    {
      "cell_type": "code",
      "metadata": {
        "id": "8sxhyGClpFVv"
      },
      "source": [
        "##Normalize the data in train/val/test. Be sure to fit StandardScaler to the training dataset only! "
      ],
      "execution_count": null,
      "outputs": []
    },
    {
      "cell_type": "code",
      "metadata": {
        "id": "O5cQLSonwNXK"
      },
      "source": [
        "pipeline = Pipeline(\n",
        "    [(\"num_standardizer\", StandardScaler()),\n",
        "     (\"clf\", LogisticRegression(solver='liblinear', max_iter=2000, verbose=2))\n",
        "     ]\n",
        ")"
      ],
      "execution_count": null,
      "outputs": []
    },
    {
      "cell_type": "code",
      "metadata": {
        "id": "no94AXwtqQ28"
      },
      "source": [
        "##Problem 2.5, 2.6 - Train a Logistic Regression model (with solver = 'libnear') to predict mortality given the remaining features available. \n",
        "\n",
        "C = [0.1, 0.25, 1]\n",
        "penalty = ['l1', 'l2']"
      ],
      "execution_count": null,
      "outputs": []
    },
    {
      "cell_type": "code",
      "metadata": {
        "id": "IwVkqDIJ2GjS"
      },
      "source": [
        "for c_val in C:\n",
        "  for penalty_val in penalty:\n",
        "    pipeline.set_params(clf__C = c_val, clf__penalty = penalty_val)\n",
        "    pipeline.fit(train_X, train_y)\n",
        "    print(f\"c = {c_val}, penalty = {penalty_val}\")\n",
        "    print(pipeline.score(valid_X, valid_y))"
      ],
      "execution_count": null,
      "outputs": []
    },
    {
      "cell_type": "code",
      "metadata": {
        "id": "kq4BDL2F3UXD"
      },
      "source": [
        "pipeline.set_params(clf__C = 1, clf__penalty = 'l2')\n",
        "pipeline.fit(train_X, train_y)"
      ],
      "execution_count": null,
      "outputs": []
    },
    {
      "cell_type": "code",
      "metadata": {
        "id": "QyRKMXUk8EFV"
      },
      "source": [
        "pipeline.score(test_X, test_y)"
      ],
      "execution_count": null,
      "outputs": []
    },
    {
      "cell_type": "code",
      "metadata": {
        "id": "qOxKXT7UwNpP"
      },
      "source": [
        "standardizer = pipeline['num_standardizer']\n",
        "model = pipeline['clf']"
      ],
      "execution_count": null,
      "outputs": []
    },
    {
      "cell_type": "code",
      "metadata": {
        "id": "JAYx8rJP3irF"
      },
      "source": [
        "test_X_standardized = standardizer.transform(test_X)\n",
        "predicted_values = model.predict(test_X_standardized)"
      ],
      "execution_count": null,
      "outputs": []
    },
    {
      "cell_type": "code",
      "metadata": {
        "id": "prpWdXMi4KMm"
      },
      "source": [
        "accuracy_score(test_y, predicted_values)"
      ],
      "execution_count": null,
      "outputs": []
    },
    {
      "cell_type": "code",
      "metadata": {
        "id": "hdCNmU8_4aG3"
      },
      "source": [
        "roc_auc_score(test_y, predicted_values)"
      ],
      "execution_count": null,
      "outputs": []
    },
    {
      "cell_type": "code",
      "metadata": {
        "id": "NCg78gx38Pre"
      },
      "source": [
        "confusion_matrix(test_y, predicted_values)"
      ],
      "execution_count": null,
      "outputs": []
    },
    {
      "cell_type": "code",
      "metadata": {
        "id": "PBvIVby_8aLo"
      },
      "source": [
        "print(precision_score(test_y, predicted_values))\n",
        "print(recall_score(test_y, predicted_values))"
      ],
      "execution_count": null,
      "outputs": []
    },
    {
      "cell_type": "code",
      "metadata": {
        "id": "Ednt42T18oQX"
      },
      "source": [
        "##Problem 2.7 - Which of the following features are among the top 5 most \n",
        "##positive features, based on the coefficients of the logistic regression model?"
      ],
      "execution_count": null,
      "outputs": []
    },
    {
      "cell_type": "code",
      "metadata": {
        "id": "G1uOULy-4eUO"
      },
      "source": [
        "feature_importances = zip(train_X.columns, *model.coef_)\n",
        "print(sorted(list(feature_importances), key=lambda x: -x[1]))"
      ],
      "execution_count": null,
      "outputs": []
    },
    {
      "cell_type": "code",
      "metadata": {
        "id": "_1nXBc538o65"
      },
      "source": [
        "##Problem 2.8 - Which of the following features are among the top 5 most \n",
        "##negative features, based on the coefficients of the logistic regression model?"
      ],
      "execution_count": null,
      "outputs": []
    },
    {
      "cell_type": "code",
      "metadata": {
        "id": "qAUdrI5i7MYX"
      },
      "source": [
        "feature_importances = zip(train_X.columns, *model.coef_)\n",
        "print(sorted(list(feature_importances), key=lambda x: x[1]))"
      ],
      "execution_count": null,
      "outputs": []
    },
    {
      "cell_type": "markdown",
      "metadata": {
        "id": "R0u2eZw0_Ov3"
      },
      "source": [
        "## Question 3\n",
        "\n",
        "Predicting hospital mortality from clinical notes\n"
      ]
    },
    {
      "cell_type": "code",
      "metadata": {
        "id": "FCoE7_UiB_US"
      },
      "source": [
        "len(note_df)"
      ],
      "execution_count": null,
      "outputs": []
    },
    {
      "cell_type": "code",
      "metadata": {
        "id": "dd7Uzlj7xTTc"
      },
      "source": [
        "note_df.drop([\"subject_id\",\"hadm_id\",\"icustay_id\", \"mort_icu\", \"mort_oneyr\"], axis=1, inplace=True)"
      ],
      "execution_count": null,
      "outputs": []
    },
    {
      "cell_type": "code",
      "metadata": {
        "id": "1aMSys_UBIS6"
      },
      "source": [
        "note_df.columns"
      ],
      "execution_count": null,
      "outputs": []
    },
    {
      "cell_type": "code",
      "metadata": {
        "id": "GKGab1yIxYPX"
      },
      "source": [
        "##Split the dataset into train/val/test"
      ],
      "execution_count": null,
      "outputs": []
    },
    {
      "cell_type": "code",
      "metadata": {
        "id": "jhkfQTEhBNrM"
      },
      "source": [
        "training_data = note_df[note_df[\"train\"] == 1].drop(columns=[\"train\", \"test\", \"valid\"])\n",
        "validation_data = note_df[note_df[\"valid\"] == 1].drop(columns=[\"train\", \"test\", \"valid\"])\n",
        "test_data = note_df[note_df[\"test\"] == 1].drop(columns=[\"train\", \"test\", \"valid\"])"
      ],
      "execution_count": null,
      "outputs": []
    },
    {
      "cell_type": "code",
      "metadata": {
        "id": "sVmY14IcB4kL"
      },
      "source": [
        "print(len(training_data))\n",
        "print(len(validation_data))\n",
        "print(len(test_data))"
      ],
      "execution_count": null,
      "outputs": []
    },
    {
      "cell_type": "code",
      "metadata": {
        "id": "pE_Qqu4hCWB9"
      },
      "source": [
        "train_X, train_y = training_data[\"chartext\"].values, training_data[\"mort_hosp\"].values\n",
        "valid_X, valid_y = validation_data[\"chartext\"].values, validation_data[\"mort_hosp\"].values\n",
        "test_X, test_y = test_data[\"chartext\"].values, test_data[\"mort_hosp\"].values"
      ],
      "execution_count": null,
      "outputs": []
    },
    {
      "cell_type": "code",
      "metadata": {
        "id": "yseYD8naxdlJ"
      },
      "source": [
        "##Fit a CountVectorizer with max_features = 5000 to the trianing dataset and generate features for train/val/test. \n",
        "vectorizer = CountVectorizer(max_features = 5000)"
      ],
      "execution_count": null,
      "outputs": []
    },
    {
      "cell_type": "code",
      "metadata": {
        "id": "iZcS8UQzL_8U"
      },
      "source": [
        "pipeline = Pipeline([\n",
        "                     (\"vectorizer\", vectorizer),\n",
        "                     (\"clf\", LogisticRegression(solver='liblinear', max_iter=2000))\n",
        "])"
      ],
      "execution_count": null,
      "outputs": []
    },
    {
      "cell_type": "code",
      "metadata": {
        "id": "ZVZ9ByAbx-U6"
      },
      "source": [
        "##Problem 3.1, 3.2 Train a Logistic Regression model (with solver = 'liblinear') to predict mortality given the remaining features available. \n",
        "\n",
        "C = [0.1,0.25,1]\n",
        "penalty = ['l1','l2']\n",
        "for c_val in C:\n",
        "  for penalty_val in penalty:\n",
        "    print(f\"using C = {c_val}, penalty = {penalty_val}\")\n",
        "    pipeline.set_params(clf__C = c_val, clf__penalty = penalty_val)\n",
        "    pipeline.fit(train_X, train_y)\n",
        "    print(f\"validation accuracy = {pipeline.score(valid_X, valid_y)}\")"
      ],
      "execution_count": null,
      "outputs": []
    },
    {
      "cell_type": "code",
      "metadata": {
        "id": "W3RlL57PQwoM"
      },
      "source": [
        "## retraining the model on best hyper parameters found using validation dataset\n",
        "pipeline.set_params(clf__C = 0.1, clf__penalty = 'l1')\n",
        "pipeline.fit(train_X, train_y)"
      ],
      "execution_count": null,
      "outputs": []
    },
    {
      "cell_type": "code",
      "metadata": {
        "id": "eRf6-7UVNIzi"
      },
      "source": [
        "featurizer, model = pipeline[\"vectorizer\"], pipeline[\"clf\"]\n",
        "test_X_featurized = featurizer.transform(test_X)\n",
        "predicted_values = model.predict(test_X_featurized)\n",
        "\n",
        "print(f\"accuracy on test data = {accuracy_score(test_y, predicted_values)}\")\n",
        "print(f\"auc on test data = {roc_auc_score(test_y, predicted_values)}\")\n",
        "print(f\"f1score on test data = {f1_score(test_y, predicted_values)}\")"
      ],
      "execution_count": null,
      "outputs": []
    },
    {
      "cell_type": "code",
      "metadata": {
        "id": "q3rKbj65NwYJ"
      },
      "source": [
        "vocab_idxs = featurizer.vocabulary_"
      ],
      "execution_count": null,
      "outputs": []
    },
    {
      "cell_type": "code",
      "metadata": {
        "id": "XCE5MpCmO_Bp"
      },
      "source": [
        "vocab_used = [None]*len(vocab_idxs)\n",
        "for token, idx in vocab_idxs.items():\n",
        "  vocab_used[idx] = token"
      ],
      "execution_count": null,
      "outputs": []
    },
    {
      "cell_type": "code",
      "metadata": {
        "id": "beRbOaOP9KY2"
      },
      "source": [
        "##Problem 3.3 Which of the following features are among the top 5 most \n",
        "##predictive positive words, based on the coefficients of the logistic regression model?\n",
        "feature_importances = zip(vocab_used, *model.coef_)\n",
        "pos_predictive_tokens = sorted(list(feature_importances), key=lambda x: -x[1])\n",
        "print(pos_predictive_tokens[:5])"
      ],
      "execution_count": null,
      "outputs": []
    },
    {
      "cell_type": "code",
      "metadata": {
        "id": "0fKZpM-x9N_R"
      },
      "source": [
        "##Problem 3.4 Which of the following features are among the top 5 most \n",
        "##predictive negative words, based on the coefficients of the logistic regression model?\n",
        "feature_importances = zip(vocab_used, *model.coef_)\n",
        "neg_predictive_tokens = sorted(list(feature_importances), key=lambda x: x[1])\n",
        "print(neg_predictive_tokens[:5])"
      ],
      "execution_count": null,
      "outputs": []
    },
    {
      "cell_type": "markdown",
      "metadata": {
        "id": "fhKFPNlIAV-0"
      },
      "source": [
        "## Question 4\n",
        "\n",
        "Analysis of data and results"
      ]
    },
    {
      "cell_type": "code",
      "metadata": {
        "id": "DxyN7K3m_Wbp"
      },
      "source": [
        "##Problem 4.1 - people / mortality rate in different ethnic categorizations"
      ],
      "execution_count": null,
      "outputs": []
    },
    {
      "cell_type": "code",
      "metadata": {
        "id": "spZhzO1WRx5h"
      },
      "source": [
        "len(lab_df)"
      ],
      "execution_count": null,
      "outputs": []
    },
    {
      "cell_type": "code",
      "metadata": {
        "id": "SjVGBpPRUdef"
      },
      "source": [
        "lab_df.columns"
      ],
      "execution_count": null,
      "outputs": []
    },
    {
      "cell_type": "code",
      "metadata": {
        "id": "-rM-O-4LSFWd"
      },
      "source": [
        "for col in ['eth_asian', 'eth_black', 'eth_hispanic', 'eth_white', 'eth_other']:\n",
        "  eth_entries = lab_df[lab_df[col] == 1]\n",
        "  num_entries = len(eth_entries)\n",
        "  print(f\"Number of people with ethnicity {col[4:]} = {num_entries}\")\n",
        "  num_mortalities = len(eth_entries[eth_entries[\"mort_hosp\"] == 1])\n",
        "  print(f\"Hospital mortality rate = {num_mortalities / num_entries}\")"
      ],
      "execution_count": null,
      "outputs": []
    },
    {
      "cell_type": "code",
      "metadata": {
        "id": "xRV_F6709e-C"
      },
      "source": [
        "##Problem 4.2 - plot histogram for ages"
      ],
      "execution_count": null,
      "outputs": []
    },
    {
      "cell_type": "code",
      "metadata": {
        "id": "TNkPe5HoTEwj"
      },
      "source": [
        "lab_df['age'].describe()"
      ],
      "execution_count": null,
      "outputs": []
    },
    {
      "cell_type": "code",
      "metadata": {
        "id": "qdAFI0taSsM8"
      },
      "source": [
        "ages_20_to_90 = lab_df[(lab_df['age'] >= 20) & (lab_df['age'] <= 90)]\n",
        "len(ages_20_to_90)"
      ],
      "execution_count": null,
      "outputs": []
    },
    {
      "cell_type": "code",
      "metadata": {
        "id": "NGwxTDCyTOZU"
      },
      "source": [
        "plt.hist(ages_20_to_90[\"age\"].values)"
      ],
      "execution_count": null,
      "outputs": []
    },
    {
      "cell_type": "markdown",
      "metadata": {
        "id": "p14sV8ZbIt83"
      },
      "source": [
        "# New Section"
      ]
    },
    {
      "cell_type": "code",
      "metadata": {
        "id": "fNbxp_qE9hpb"
      },
      "source": [
        "##TODO: Problem 4.3 - plot histogram for mortality rates"
      ],
      "execution_count": null,
      "outputs": []
    },
    {
      "cell_type": "code",
      "metadata": {
        "id": "Mdcm3ayBWDPr"
      },
      "source": [
        "lab_df[\"age_floor\"] = lab_df[\"age\"] // 10"
      ],
      "execution_count": null,
      "outputs": []
    },
    {
      "cell_type": "code",
      "metadata": {
        "id": "n2zFn3E6Z5Hq"
      },
      "source": [
        "plot_data = lab_df.groupby([\"age_floor\"]).mean()[\"mort_hosp\"]\n",
        "plot_data"
      ],
      "execution_count": null,
      "outputs": []
    },
    {
      "cell_type": "code",
      "metadata": {
        "id": "R5k4uQJ-W_j3"
      },
      "source": [
        "plt.bar(x = plot_data.index, height = plot_data)"
      ],
      "execution_count": null,
      "outputs": []
    },
    {
      "cell_type": "code",
      "metadata": {
        "id": "cJGp5DOi9jdy"
      },
      "source": [
        "##Problem 4.4 - retrain a model using C=1, penalty = l2 and evaluate AUC\n",
        "##and accuracy on the test set with age less than 40 and on the test set with\n",
        "##age greater than or equal to 40."
      ],
      "execution_count": null,
      "outputs": []
    },
    {
      "cell_type": "code",
      "metadata": {
        "id": "w7TDA8wYbGAZ"
      },
      "source": [
        "lab_df.drop(columns = [\"age_floor\", \"mortality_rate\"], inplace=True)"
      ],
      "execution_count": null,
      "outputs": []
    },
    {
      "cell_type": "code",
      "metadata": {
        "id": "o-GwkXi-XkzE"
      },
      "source": [
        "training_data = lab_df[lab_df[\"train\"] == 1].drop(columns=[\"train\", \"test\", \"valid\"])\n",
        "validation_data = lab_df[lab_df[\"valid\"] == 1].drop(columns=[\"train\", \"test\", \"valid\"])\n",
        "test_data = lab_df[lab_df[\"test\"] == 1].drop(columns=[\"train\", \"test\", \"valid\"])"
      ],
      "execution_count": null,
      "outputs": []
    },
    {
      "cell_type": "code",
      "metadata": {
        "id": "it4PAPY-bTc-"
      },
      "source": [
        "print(len(training_data))\n",
        "print(len(validation_data))\n",
        "print(len(test_data))"
      ],
      "execution_count": null,
      "outputs": []
    },
    {
      "cell_type": "code",
      "metadata": {
        "id": "ZoPr2HKAa9gA"
      },
      "source": [
        "train_X, train_y = training_data.drop(columns=[\"mort_hosp\"]), training_data[\"mort_hosp\"]\n",
        "valid_X, valid_y = validation_data.drop(columns=[\"mort_hosp\"]), validation_data[\"mort_hosp\"]"
      ],
      "execution_count": null,
      "outputs": []
    },
    {
      "cell_type": "code",
      "metadata": {
        "id": "rTQzIwKga-3B"
      },
      "source": [
        "len(train_X.columns)"
      ],
      "execution_count": null,
      "outputs": []
    },
    {
      "cell_type": "markdown",
      "metadata": {
        "id": "u5uPQ0gebpy0"
      },
      "source": [
        "### Retrain the model"
      ]
    },
    {
      "cell_type": "code",
      "metadata": {
        "id": "-cmbMWDAbAFp"
      },
      "source": [
        "pipeline = Pipeline(\n",
        "    [(\"num_standardizer\", StandardScaler()),\n",
        "     (\"clf\", LogisticRegression(solver='liblinear', \n",
        "                                C = 1, penalty = 'l2',\n",
        "                                max_iter=2000, verbose=2))\n",
        "     ]\n",
        ")"
      ],
      "execution_count": null,
      "outputs": []
    },
    {
      "cell_type": "code",
      "metadata": {
        "id": "TbQ_NdKqb0Fu"
      },
      "source": [
        "pipeline.fit(train_X, train_y)"
      ],
      "execution_count": null,
      "outputs": []
    },
    {
      "cell_type": "code",
      "metadata": {
        "id": "95Mqegwzcc5o"
      },
      "source": [
        "standardizer, model = pipeline[\"num_standardizer\"], pipeline[\"clf\"]"
      ],
      "execution_count": null,
      "outputs": []
    },
    {
      "cell_type": "code",
      "metadata": {
        "id": "qW0vS3LYb7I5"
      },
      "source": [
        "patients_less_than_40 = test_data[test_data[\"age\"] < 40]\n",
        "patients_more_than_40 = test_data[test_data[\"age\"] >= 40]"
      ],
      "execution_count": null,
      "outputs": []
    },
    {
      "cell_type": "code",
      "metadata": {
        "id": "HHMxNzQrefFS"
      },
      "source": [
        "print(f\"Number of patients admitted below the age of 40 = {len(patients_less_than_40)}\")\n",
        "print(f\"Number of patients admitted equal to and above 40 = {len(patients_more_than_40)}\")"
      ],
      "execution_count": null,
      "outputs": []
    },
    {
      "cell_type": "code",
      "metadata": {
        "id": "X9EPFhO0cZeP"
      },
      "source": [
        "for data_df in [patients_less_than_40, patients_more_than_40]:\n",
        "  features, labels = data_df.drop(columns=[\"mort_hosp\"]), data_df[\"mort_hosp\"]\n",
        "  features_standardized = standardizer.transform(features)\n",
        "  predictions = model.predict(features_standardized)\n",
        "  print(f\"min age = {data_df['age'].min()}, max age = {data_df['age'].max()}\")\n",
        "  print(f\"model accuracy = {accuracy_score(labels, predictions)}\")\n",
        "  print(f\"auc score = {roc_auc_score(labels, predictions)}\")\n",
        "  print()"
      ],
      "execution_count": null,
      "outputs": []
    },
    {
      "cell_type": "code",
      "metadata": {
        "id": "A0yLqRrFdTcV"
      },
      "source": [
        ""
      ],
      "execution_count": null,
      "outputs": []
    }
  ]
}